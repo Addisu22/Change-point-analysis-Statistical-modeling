{
 "cells": [
  {
   "cell_type": "markdown",
   "id": "6ff1056a",
   "metadata": {},
   "source": [
    "### Key Events correlated to Brent Oil Price"
   ]
  },
  {
   "cell_type": "code",
   "execution_count": 4,
   "id": "d2b63066",
   "metadata": {},
   "outputs": [
    {
     "name": "stdout",
     "output_type": "stream",
     "text": [
      "key_events.csv saved!\n"
     ]
    }
   ],
   "source": [
    "import os\n",
    "import pandas as pd\n",
    "\n",
    "# Create folder if it doesn't exist\n",
    "os.makedirs(\"Data\", exist_ok=True)\n",
    "\n",
    "data = {\n",
    "    \"Date\": [\n",
    "        \"2019-12-06\",\n",
    "        \"2020-03-08\",\n",
    "        \"2020-04-20\",\n",
    "        \"2020-11-09\",\n",
    "        \"2021-07-01\",\n",
    "        \"2022-02-24\"\n",
    "    ],\n",
    "    \"Event\": [\n",
    "        \"OPEC+ Production Cut\",\n",
    "        \"Oil Price Crash\",\n",
    "        \"Historic Negative Prices\",\n",
    "        \"COVID-19 Vaccine Announcement\",\n",
    "        \"Global Demand Recovery\",\n",
    "        \"Russia-Ukraine Conflict\"\n",
    "    ],\n",
    "    \"Description\": [\n",
    "        \"OPEC and allies agreed to cut oil production to support prices\",\n",
    "        \"Price war between Russia and Saudi Arabia triggered steep price drops\",\n",
    "        \"WTI crude futures went negative for the first time in history\",\n",
    "        \"Positive news on vaccine development lifted oil markets\",\n",
    "        \"Signs of economic recovery increased oil demand expectations\",\n",
    "        \"Geopolitical tensions disrupted supply chains and markets\"\n",
    "    ]\n",
    "}\n",
    "df_events = pd.DataFrame(data)\n",
    "df_events.to_csv('Data/key_events.csv', index=False)\n",
    "print(\"key_events.csv saved!\")"
   ]
  }
 ],
 "metadata": {
  "kernelspec": {
   "display_name": "Python 3",
   "language": "python",
   "name": "python3"
  },
  "language_info": {
   "codemirror_mode": {
    "name": "ipython",
    "version": 3
   },
   "file_extension": ".py",
   "mimetype": "text/x-python",
   "name": "python",
   "nbconvert_exporter": "python",
   "pygments_lexer": "ipython3",
   "version": "3.11.0"
  }
 },
 "nbformat": 4,
 "nbformat_minor": 5
}
