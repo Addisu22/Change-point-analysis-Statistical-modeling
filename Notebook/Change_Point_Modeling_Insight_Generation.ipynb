{
 "cells": [
  {
   "cell_type": "markdown",
   "id": "fb861810",
   "metadata": {},
   "source": [
    "### Task 2: Change Point Modeling and Insight Generation"
   ]
  },
  {
   "cell_type": "code",
   "execution_count": 2,
   "id": "8b9c5242",
   "metadata": {},
   "outputs": [],
   "source": [
    "import pandas as pd\n",
    "import numpy as np\n",
    "import pymc as pm\n",
    "import arviz as az\n",
    "import matplotlib.pyplot as plt\n",
    "import os\n",
    "import sys \n",
    "sys.path.append(os.path.abspath(\"../Model\"))\n",
    "import warnings\n",
    "warnings.filterwarnings('ignore')"
   ]
  },
  {
   "cell_type": "code",
   "execution_count": 3,
   "id": "617f516c",
   "metadata": {},
   "outputs": [],
   "source": [
    "os.chdir('..')"
   ]
  },
  {
   "cell_type": "code",
   "execution_count": 4,
   "id": "bc5dcfca",
   "metadata": {},
   "outputs": [],
   "source": [
    "from model_data import *"
   ]
  },
  {
   "cell_type": "code",
   "execution_count": 5,
   "id": "feb873f4",
   "metadata": {},
   "outputs": [
    {
     "data": {
      "text/html": [
       "<div>\n",
       "<style scoped>\n",
       "    .dataframe tbody tr th:only-of-type {\n",
       "        vertical-align: middle;\n",
       "    }\n",
       "\n",
       "    .dataframe tbody tr th {\n",
       "        vertical-align: top;\n",
       "    }\n",
       "\n",
       "    .dataframe thead th {\n",
       "        text-align: right;\n",
       "    }\n",
       "</style>\n",
       "<table border=\"1\" class=\"dataframe\">\n",
       "  <thead>\n",
       "    <tr style=\"text-align: right;\">\n",
       "      <th></th>\n",
       "      <th>Date</th>\n",
       "      <th>Price</th>\n",
       "      <th>LogReturn</th>\n",
       "    </tr>\n",
       "  </thead>\n",
       "  <tbody>\n",
       "    <tr>\n",
       "      <th>1</th>\n",
       "      <td>1987-05-21</td>\n",
       "      <td>18.45</td>\n",
       "      <td>-0.009709</td>\n",
       "    </tr>\n",
       "    <tr>\n",
       "      <th>2</th>\n",
       "      <td>1987-05-22</td>\n",
       "      <td>18.55</td>\n",
       "      <td>0.005405</td>\n",
       "    </tr>\n",
       "    <tr>\n",
       "      <th>3</th>\n",
       "      <td>1987-05-25</td>\n",
       "      <td>18.60</td>\n",
       "      <td>0.002692</td>\n",
       "    </tr>\n",
       "    <tr>\n",
       "      <th>4</th>\n",
       "      <td>1987-05-26</td>\n",
       "      <td>18.63</td>\n",
       "      <td>0.001612</td>\n",
       "    </tr>\n",
       "    <tr>\n",
       "      <th>5</th>\n",
       "      <td>1987-05-27</td>\n",
       "      <td>18.60</td>\n",
       "      <td>-0.001612</td>\n",
       "    </tr>\n",
       "    <tr>\n",
       "      <th>...</th>\n",
       "      <td>...</td>\n",
       "      <td>...</td>\n",
       "      <td>...</td>\n",
       "    </tr>\n",
       "    <tr>\n",
       "      <th>9006</th>\n",
       "      <td>2022-11-08</td>\n",
       "      <td>96.85</td>\n",
       "      <td>-0.030706</td>\n",
       "    </tr>\n",
       "    <tr>\n",
       "      <th>9007</th>\n",
       "      <td>2022-11-09</td>\n",
       "      <td>93.05</td>\n",
       "      <td>-0.040026</td>\n",
       "    </tr>\n",
       "    <tr>\n",
       "      <th>9008</th>\n",
       "      <td>2022-11-10</td>\n",
       "      <td>94.25</td>\n",
       "      <td>0.012814</td>\n",
       "    </tr>\n",
       "    <tr>\n",
       "      <th>9009</th>\n",
       "      <td>2022-11-11</td>\n",
       "      <td>96.37</td>\n",
       "      <td>0.022244</td>\n",
       "    </tr>\n",
       "    <tr>\n",
       "      <th>9010</th>\n",
       "      <td>2022-11-14</td>\n",
       "      <td>93.59</td>\n",
       "      <td>-0.029271</td>\n",
       "    </tr>\n",
       "  </tbody>\n",
       "</table>\n",
       "<p>9010 rows × 3 columns</p>\n",
       "</div>"
      ],
      "text/plain": [
       "           Date  Price  LogReturn\n",
       "1    1987-05-21  18.45  -0.009709\n",
       "2    1987-05-22  18.55   0.005405\n",
       "3    1987-05-25  18.60   0.002692\n",
       "4    1987-05-26  18.63   0.001612\n",
       "5    1987-05-27  18.60  -0.001612\n",
       "...         ...    ...        ...\n",
       "9006 2022-11-08  96.85  -0.030706\n",
       "9007 2022-11-09  93.05  -0.040026\n",
       "9008 2022-11-10  94.25   0.012814\n",
       "9009 2022-11-11  96.37   0.022244\n",
       "9010 2022-11-14  93.59  -0.029271\n",
       "\n",
       "[9010 rows x 3 columns]"
      ]
     },
     "execution_count": 5,
     "metadata": {},
     "output_type": "execute_result"
    }
   ],
   "source": [
    "# # Load our Brent oil price data (with change points)\n",
    "df_price = load_and_preprocess('Data/BrentOilPrices.csv')\n",
    "df_price"
   ]
  },
  {
   "cell_type": "code",
   "execution_count": 6,
   "id": "8f9f476a",
   "metadata": {},
   "outputs": [
    {
     "data": {
      "text/html": [
       "<div>\n",
       "<style scoped>\n",
       "    .dataframe tbody tr th:only-of-type {\n",
       "        vertical-align: middle;\n",
       "    }\n",
       "\n",
       "    .dataframe tbody tr th {\n",
       "        vertical-align: top;\n",
       "    }\n",
       "\n",
       "    .dataframe thead th {\n",
       "        text-align: right;\n",
       "    }\n",
       "</style>\n",
       "<table border=\"1\" class=\"dataframe\">\n",
       "  <thead>\n",
       "    <tr style=\"text-align: right;\">\n",
       "      <th></th>\n",
       "      <th>Date</th>\n",
       "      <th>Event</th>\n",
       "      <th>Description</th>\n",
       "    </tr>\n",
       "  </thead>\n",
       "  <tbody>\n",
       "    <tr>\n",
       "      <th>0</th>\n",
       "      <td>2019-12-06</td>\n",
       "      <td>OPEC+ Production Cut</td>\n",
       "      <td>OPEC and allies agreed to cut oil production t...</td>\n",
       "    </tr>\n",
       "    <tr>\n",
       "      <th>1</th>\n",
       "      <td>2020-03-08</td>\n",
       "      <td>Oil Price Crash</td>\n",
       "      <td>Price war between Russia and Saudi Arabia trig...</td>\n",
       "    </tr>\n",
       "    <tr>\n",
       "      <th>2</th>\n",
       "      <td>2020-04-20</td>\n",
       "      <td>Historic Negative Prices</td>\n",
       "      <td>WTI crude futures went negative for the first ...</td>\n",
       "    </tr>\n",
       "    <tr>\n",
       "      <th>3</th>\n",
       "      <td>2020-11-09</td>\n",
       "      <td>COVID-19 Vaccine Announcement</td>\n",
       "      <td>Positive news on vaccine development lifted oi...</td>\n",
       "    </tr>\n",
       "    <tr>\n",
       "      <th>4</th>\n",
       "      <td>2021-07-01</td>\n",
       "      <td>Global Demand Recovery</td>\n",
       "      <td>Signs of economic recovery increased oil deman...</td>\n",
       "    </tr>\n",
       "    <tr>\n",
       "      <th>5</th>\n",
       "      <td>2022-02-24</td>\n",
       "      <td>Russia-Ukraine Conflict</td>\n",
       "      <td>Geopolitical tensions disrupted supply chains ...</td>\n",
       "    </tr>\n",
       "  </tbody>\n",
       "</table>\n",
       "</div>"
      ],
      "text/plain": [
       "        Date                          Event  \\\n",
       "0 2019-12-06           OPEC+ Production Cut   \n",
       "1 2020-03-08                Oil Price Crash   \n",
       "2 2020-04-20       Historic Negative Prices   \n",
       "3 2020-11-09  COVID-19 Vaccine Announcement   \n",
       "4 2021-07-01         Global Demand Recovery   \n",
       "5 2022-02-24        Russia-Ukraine Conflict   \n",
       "\n",
       "                                         Description  \n",
       "0  OPEC and allies agreed to cut oil production t...  \n",
       "1  Price war between Russia and Saudi Arabia trig...  \n",
       "2  WTI crude futures went negative for the first ...  \n",
       "3  Positive news on vaccine development lifted oi...  \n",
       "4  Signs of economic recovery increased oil deman...  \n",
       "5  Geopolitical tensions disrupted supply chains ...  "
      ]
     },
     "execution_count": 6,
     "metadata": {},
     "output_type": "execute_result"
    }
   ],
   "source": [
    "# Load key events from \n",
    "df_events = load_event(\"Data/key_events.csv\")\n",
    "df_events"
   ]
  },
  {
   "cell_type": "code",
   "execution_count": 9,
   "id": "08e27765",
   "metadata": {},
   "outputs": [
    {
     "data": {
      "text/plain": [
       "0   1992-03-17\n",
       "1   1996-08-12\n",
       "2   1999-01-04\n",
       "Name: Date, dtype: datetime64[ns]"
      ]
     },
     "execution_count": 9,
     "metadata": {},
     "output_type": "execute_result"
    }
   ],
   "source": [
    "# Simulated result from our PyMC model: Assume you already have change points (e.g., from Bayesian inference)\n",
    "change_point_indices = [1234, 2350, 2950]  # index in df_price\n",
    "change_dates = df_price['Date'].iloc[change_point_indices].reset_index(drop=True)\n",
    "change_dates"
   ]
  },
  {
   "cell_type": "code",
   "execution_count": 11,
   "id": "2d64395b",
   "metadata": {},
   "outputs": [
    {
     "name": "stdout",
     "output_type": "stream",
     "text": [
      "Change Points and Associated Events:\n",
      "  Change_Point_Date Event_Date                 Event_Description\n",
      "0        1992-03-17       None  No matching event within ±7 days\n",
      "1        1996-08-12       None  No matching event within ±7 days\n",
      "2        1999-01-04       None  No matching event within ±7 days\n"
     ]
    }
   ],
   "source": [
    "from datetime import timedelta\n",
    "\n",
    "# How close should we consider a match? e.g., ±7 days\n",
    "tolerance_days = 7\n",
    "\n",
    "associated_events = []\n",
    "\n",
    "for cp_date in change_dates:\n",
    "    matched = df_events[\n",
    "        (df_events['Date'] >= cp_date - timedelta(days=tolerance_days)) &\n",
    "        (df_events['Date'] <= cp_date + timedelta(days=tolerance_days))\n",
    "    ]\n",
    "    if not matched.empty:\n",
    "        for _, row in matched.iterrows():\n",
    "            associated_events.append({\n",
    "                \"Change_Point_Date\": cp_date.date(),\n",
    "                \"Event_Date\": row[\"Date\"].date(),\n",
    "                \"Event_Description\": row[\"Event\"]\n",
    "            })\n",
    "    else:\n",
    "        associated_events.append({\n",
    "            \"Change_Point_Date\": cp_date.date(),\n",
    "            \"Event_Date\": None,\n",
    "            \"Event_Description\": \"No matching event within ±7 days\"\n",
    "        })\n",
    "\n",
    "# Convert to DataFrame\n",
    "df_association = pd.DataFrame(associated_events)\n",
    "\n",
    "print(\"Change Points and Associated Events:\")\n",
    "print(df_association)\n"
   ]
  },
  {
   "cell_type": "code",
   "execution_count": 14,
   "id": "2376095c",
   "metadata": {},
   "outputs": [
    {
     "data": {
      "text/plain": [
       "array([-0.00970881,  0.00540542,  0.00269179, ...,  0.01281384,\n",
       "        0.02224412, -0.02927141], shape=(9010,))"
      ]
     },
     "execution_count": 14,
     "metadata": {},
     "output_type": "execute_result"
    }
   ],
   "source": [
    "returns = df_price[\"LogReturn\"].values\n",
    "dates = df_price[\"Date\"].values\n",
    "returns"
   ]
  },
  {
   "cell_type": "code",
   "execution_count": null,
   "id": "6d9c86e2",
   "metadata": {},
   "outputs": [
    {
     "name": "stderr",
     "output_type": "stream",
     "text": [
      "Multiprocess sampling (4 chains in 4 jobs)\n",
      "CompoundStep\n",
      ">Metropolis: [tau]\n",
      ">NUTS: [mu1, mu2, sigma1, sigma2]\n"
     ]
    }
   ],
   "source": [
    "model, trace = build_model(returns)"
   ]
  },
  {
   "cell_type": "code",
   "execution_count": null,
   "id": "b6625a07",
   "metadata": {},
   "outputs": [],
   "source": [
    "most_probable_tau, change_date = extract_change_point(trace, dates)\n",
    "print(f\"Most probable change point at index {most_probable_tau}, date: {change_date}\")"
   ]
  },
  {
   "cell_type": "code",
   "execution_count": null,
   "id": "c2028143",
   "metadata": {},
   "outputs": [],
   "source": [
    "plot_results(df, change_date, trace)"
   ]
  }
 ],
 "metadata": {
  "kernelspec": {
   "display_name": "Python 3",
   "language": "python",
   "name": "python3"
  },
  "language_info": {
   "codemirror_mode": {
    "name": "ipython",
    "version": 3
   },
   "file_extension": ".py",
   "mimetype": "text/x-python",
   "name": "python",
   "nbconvert_exporter": "python",
   "pygments_lexer": "ipython3",
   "version": "3.11.0"
  }
 },
 "nbformat": 4,
 "nbformat_minor": 5
}
